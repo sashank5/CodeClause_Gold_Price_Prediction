{
  "nbformat": 4,
  "nbformat_minor": 0,
  "metadata": {
    "colab": {
      "provenance": [],
      "collapsed_sections": []
    },
    "kernelspec": {
      "name": "python3",
      "display_name": "Python 3"
    },
    "language_info": {
      "name": "python"
    }
  },
  "cells": [
    {
      "cell_type": "code",
      "execution_count": null,
      "metadata": {
        "id": "LR3d1-aPAVwh"
      },
      "outputs": [],
      "source": [
        "import pandas as pd\n",
        "import numpy as np\n",
        "import matplotlib.pyplot as plt\n",
        "from sklearn.model_selection import train_test_split\n",
        "from sklearn.ensemble import RandomForestRegressor\n",
        "from sklearn import metrics"
      ]
    },
    {
      "cell_type": "code",
      "source": [
        "data=pd.read_csv('gold_data.csv')"
      ],
      "metadata": {
        "id": "eD70xlmCDsFx"
      },
      "execution_count": null,
      "outputs": []
    },
    {
      "cell_type": "code",
      "source": [
        "print(data)"
      ],
      "metadata": {
        "colab": {
          "base_uri": "https://localhost:8080/"
        },
        "id": "G8wJIUuWD-xT",
        "outputId": "4cf6d07c-b52f-42a8-fc69-7002c2a45f43"
      },
      "execution_count": null,
      "outputs": [
        {
          "output_type": "stream",
          "name": "stdout",
          "text": [
            "           Date          SPX         GLD        USO      SLV   EUR/USD\n",
            "0      1/2/2008  1447.160034   84.860001  78.470001  15.1800  1.471692\n",
            "1      1/3/2008  1447.160034   85.570000  78.370003  15.2850  1.474491\n",
            "2      1/4/2008  1411.630005   85.129997  77.309998  15.1670  1.475492\n",
            "3      1/7/2008  1416.180054   84.769997  75.500000  15.0530  1.468299\n",
            "4      1/8/2008  1390.189941   86.779999  76.059998  15.5900  1.557099\n",
            "...         ...          ...         ...        ...      ...       ...\n",
            "2285   5/8/2018  2671.919922  124.589996  14.060000  15.5100  1.186789\n",
            "2286   5/9/2018  2697.790039  124.330002  14.370000  15.5300  1.184722\n",
            "2287  5/10/2018  2723.070068  125.180000  14.410000  15.7400  1.191753\n",
            "2288  5/14/2018  2730.129883  124.489998  14.380000  15.5600  1.193118\n",
            "2289  5/16/2018  2725.780029  122.543800  14.405800  15.4542  1.182033\n",
            "\n",
            "[2290 rows x 6 columns]\n"
          ]
        }
      ]
    },
    {
      "cell_type": "code",
      "source": [
        "data.isnull().sum()"
      ],
      "metadata": {
        "colab": {
          "base_uri": "https://localhost:8080/"
        },
        "id": "7BqssgaGD_39",
        "outputId": "a3d9dede-bbfa-4f5c-8997-8332727b472c"
      },
      "execution_count": null,
      "outputs": [
        {
          "output_type": "execute_result",
          "data": {
            "text/plain": [
              "Date       0\n",
              "SPX        0\n",
              "GLD        0\n",
              "USO        0\n",
              "SLV        0\n",
              "EUR/USD    0\n",
              "dtype: int64"
            ]
          },
          "metadata": {},
          "execution_count": 12
        }
      ]
    },
    {
      "cell_type": "code",
      "source": [
        "X=data.drop(['Date','GLD'],axis=1)\n",
        "\n",
        "y=data[\"GLD\"]"
      ],
      "metadata": {
        "id": "RMXnWoEeEG0e"
      },
      "execution_count": null,
      "outputs": []
    },
    {
      "cell_type": "code",
      "source": [
        "print(X)"
      ],
      "metadata": {
        "colab": {
          "base_uri": "https://localhost:8080/"
        },
        "id": "xcesl9qsEfAP",
        "outputId": "b00bc143-c318-4f5f-b531-0a2d0dd6cfff"
      },
      "execution_count": null,
      "outputs": [
        {
          "output_type": "stream",
          "name": "stdout",
          "text": [
            "              SPX        USO      SLV   EUR/USD\n",
            "0     1447.160034  78.470001  15.1800  1.471692\n",
            "1     1447.160034  78.370003  15.2850  1.474491\n",
            "2     1411.630005  77.309998  15.1670  1.475492\n",
            "3     1416.180054  75.500000  15.0530  1.468299\n",
            "4     1390.189941  76.059998  15.5900  1.557099\n",
            "...           ...        ...      ...       ...\n",
            "2285  2671.919922  14.060000  15.5100  1.186789\n",
            "2286  2697.790039  14.370000  15.5300  1.184722\n",
            "2287  2723.070068  14.410000  15.7400  1.191753\n",
            "2288  2730.129883  14.380000  15.5600  1.193118\n",
            "2289  2725.780029  14.405800  15.4542  1.182033\n",
            "\n",
            "[2290 rows x 4 columns]\n"
          ]
        }
      ]
    },
    {
      "cell_type": "code",
      "source": [
        "print(y)"
      ],
      "metadata": {
        "colab": {
          "base_uri": "https://localhost:8080/"
        },
        "id": "njLwCFf4Ef1b",
        "outputId": "7b168e7b-4d33-4bd7-e8f3-5a8ec77eea95"
      },
      "execution_count": null,
      "outputs": [
        {
          "output_type": "stream",
          "name": "stdout",
          "text": [
            "0        84.860001\n",
            "1        85.570000\n",
            "2        85.129997\n",
            "3        84.769997\n",
            "4        86.779999\n",
            "           ...    \n",
            "2285    124.589996\n",
            "2286    124.330002\n",
            "2287    125.180000\n",
            "2288    124.489998\n",
            "2289    122.543800\n",
            "Name: GLD, Length: 2290, dtype: float64\n"
          ]
        }
      ]
    },
    {
      "cell_type": "code",
      "source": [
        "x_train, x_test, y_train, y_test = train_test_split(X, y, test_size = 0.2, random_state=2)\n",
        "print(x_train)\n",
        "print(y_train)"
      ],
      "metadata": {
        "colab": {
          "base_uri": "https://localhost:8080/"
        },
        "id": "5foTrV0aEjGu",
        "outputId": "59607146-5cc8-402d-fab6-8aec34556bb5"
      },
      "execution_count": null,
      "outputs": [
        {
          "output_type": "stream",
          "name": "stdout",
          "text": [
            "              SPX        USO        SLV   EUR/USD\n",
            "476   1138.500000  39.790001  16.889999  1.361693\n",
            "1958  2202.939941  10.630000  15.800000  1.063886\n",
            "248    700.820007  24.480000  12.770000  1.256408\n",
            "2231  2656.000000  11.890000  15.570000  1.225280\n",
            "1325  1838.880005  33.040001  19.420000  1.366998\n",
            "...           ...        ...        ...       ...\n",
            "1071  1409.150024  32.320000  32.980000  1.287515\n",
            "433   1132.989990  40.270000  17.230000  1.442398\n",
            "674   1286.119995  38.610001  27.389999  1.357276\n",
            "1099  1461.890015  33.919998  29.180000  1.306745\n",
            "1608  2092.429932  18.500000  15.600000  1.057295\n",
            "\n",
            "[1832 rows x 4 columns]\n",
            "476     109.879997\n",
            "1958    115.540001\n",
            "248      90.930000\n",
            "2231    125.370003\n",
            "1325    119.889999\n",
            "           ...    \n",
            "1071    169.610001\n",
            "433     109.800003\n",
            "674     129.869995\n",
            "1099    159.429993\n",
            "1608    115.139999\n",
            "Name: GLD, Length: 1832, dtype: float64\n"
          ]
        }
      ]
    },
    {
      "cell_type": "code",
      "source": [
        "model=RandomForestRegressor(n_estimators=100)\n",
        "model.fit(x_train,y_train)"
      ],
      "metadata": {
        "colab": {
          "base_uri": "https://localhost:8080/"
        },
        "id": "VzuDcVrIFZch",
        "outputId": "0007319b-4e25-4cd0-b649-3f23d1c2cf24"
      },
      "execution_count": null,
      "outputs": [
        {
          "output_type": "execute_result",
          "data": {
            "text/plain": [
              "RandomForestRegressor()"
            ]
          },
          "metadata": {},
          "execution_count": 36
        }
      ]
    },
    {
      "cell_type": "code",
      "source": [
        "predictions=model.predict(x_test)"
      ],
      "metadata": {
        "id": "iOBr9oZCFZ8R"
      },
      "execution_count": null,
      "outputs": []
    },
    {
      "cell_type": "code",
      "source": [
        "print(predictions)"
      ],
      "metadata": {
        "colab": {
          "base_uri": "https://localhost:8080/"
        },
        "id": "UQPG72cVFe0S",
        "outputId": "79060b64-1b42-4a78-c6af-4dce4720f176"
      },
      "execution_count": null,
      "outputs": [
        {
          "output_type": "stream",
          "name": "stdout",
          "text": [
            "[168.59019946  81.73830019 115.84629993 127.66410065 120.73590124\n",
            " 154.69569749 150.52699854 126.14909968 117.61229878 125.71920127\n",
            " 116.88740087 171.82820065 141.92379825 167.74659836 115.2077999\n",
            " 117.72450034 139.20200349 170.08370092 159.7835032  155.63789951\n",
            " 155.11209954 125.32300045 175.97430002 156.75830248 125.18810056\n",
            "  93.98049981  77.36529985 120.3236     119.14099981 167.49019992\n",
            "  88.07710063 125.35780034  91.17940065 117.52190029 121.12629894\n",
            " 136.12510063 115.4860009  115.38810053 148.59560036 107.23040108\n",
            " 104.41080252  87.28209796 126.50480032 117.9293996  152.45049899\n",
            " 119.53570008 108.34660001 108.26759835  93.19210018 126.96279828\n",
            "  75.39960029 113.60979911 121.32170019 111.23989919 118.93709903\n",
            " 121.09559927 159.16169905 169.39840103 146.91949642  85.96299854\n",
            "  94.30950029  86.85709915  90.66850002 119.01630053 126.44800089\n",
            " 127.43740004 169.3950996  122.34739914 117.48289871  98.7539006\n",
            " 167.94150003 143.51609913 132.00460237 121.08410187 121.06689951\n",
            " 119.79700048 114.36950159 118.11760061 107.22580092 127.91260102\n",
            " 113.64309987 107.60870027 116.79120068 119.48679898  89.07680074\n",
            "  88.3630988  146.40470165 127.17510034 113.33970013 109.91859858\n",
            " 108.14739905  77.38549898 168.74900163 113.9291989  121.63729866\n",
            " 128.06940141 154.96619768  91.73289949 136.80370076 159.51900312\n",
            " 126.09800046 125.20750073 130.70080128 114.73630084 119.83559967\n",
            "  92.14809992 110.10879905 167.55599937 156.58169903 114.05839932\n",
            " 106.58170133  79.7589996  113.22520046 125.78950067 107.31669969\n",
            " 119.14400102 156.22320358 159.8007986  120.27110022 134.2260021\n",
            " 101.65369981 117.63229781 119.28360035 112.94930099 102.76169939\n",
            " 160.37699755  99.24410056 147.01289905 125.53950118 169.48599905\n",
            " 125.81389867 127.3632975  127.33420175 113.56769958 112.79840077\n",
            " 123.6728991  102.17029868  89.24049985 124.53179926 101.78919925\n",
            " 106.947099   113.38550072 117.03610079  99.33149975 121.5898008\n",
            " 163.63429934  87.54389886 106.95389998 117.07790098 127.59370148\n",
            " 124.18140072  80.69749919 120.20700067 158.87409823  87.86129959\n",
            " 110.44109943 118.92479901 172.58709858 103.09939899 105.49250084\n",
            " 122.64440015 159.37279785  87.35549837  93.39020061 112.66350013\n",
            " 176.9223003  114.65489939 119.22860036  94.76870101 125.94760031\n",
            " 165.91960078 114.58310007 116.7234014   88.34869868 148.77280074\n",
            " 120.39519932  89.60259986 111.78190001 117.39190029 118.79440123\n",
            "  88.13339962  94.09120011 117.3470002  118.57370158 120.42990078\n",
            " 126.60269814 121.81599995 150.4466005  164.62090028 118.65169973\n",
            " 120.40110168 150.88970026 118.22139848 172.85659868 105.11459917\n",
            " 104.89290125 150.06780118 113.89280116 124.83310124 147.37029894\n",
            " 119.59090114 115.32440008 112.2835001  113.51020192 139.30280086\n",
            " 117.87959773 102.8937002  115.82840111 103.92380197  99.06240051\n",
            " 117.6686006   90.71599996  91.7708005  153.47069845 102.72739966\n",
            " 154.28300073 114.50350159 138.86590132  90.20059798 115.55609959\n",
            " 114.88290007 123.13150075 121.76289982 165.1683012   92.86119961\n",
            " 135.5241024  121.39979914 121.00030068 104.74230032 141.51770252\n",
            " 121.75069943 116.69830053 113.96690089 126.88599785 122.83339945\n",
            " 125.77199941 121.23770034  86.84049906 132.57080164 146.59650172\n",
            "  92.75899927 158.72749964 158.99530178 126.23139895 164.48139968\n",
            " 108.72399962 109.46150044 103.87539893  94.32730034 128.09240316\n",
            " 106.90790047 162.33060037 121.5623007  132.10400049 130.81650136\n",
            " 159.21310013  90.22419837 174.48900199 127.95570025 126.71559831\n",
            "  86.33119923 124.38219912 150.16649757  89.66599995 106.93589994\n",
            " 109.06100014  83.8355994  135.91859992 154.90460207 138.22350313\n",
            "  74.15760028 151.87620069 125.76189984 126.78360041 127.476199\n",
            " 108.80899958 156.32050074 114.60250085 116.95130173 125.17989956\n",
            " 154.06490094 121.49569965 156.34459861  92.82850058 125.59130154\n",
            " 125.68910037  87.99230057  92.03599936 126.19849935 128.19440322\n",
            " 113.17170073 117.64339771 121.01760044 126.75269833 119.62410081\n",
            " 136.00150074  93.96869935 119.78760045 113.00220119  94.37999946\n",
            " 108.59989981  87.0012991  109.09389953  89.74649983  92.41070006\n",
            " 131.81490296 162.40070092  89.36820021 119.80830097 133.31610164\n",
            " 123.9853003  128.47040206 101.98299812  88.96849886 131.34390035\n",
            " 120.07540038 108.66399993 168.82620168 115.21760036  86.6124989\n",
            " 118.82450057  91.21319944 161.65550007 116.60860066 121.97059988\n",
            " 160.23009774 120.13439936 112.6634996  108.41309864 126.62539951\n",
            "  76.14700027 102.99779987 127.86810303 121.87949893  92.60760011\n",
            " 131.71910047 117.96840123 116.24239959 154.17050286 159.42930069\n",
            " 109.73319995 151.64259812 119.23660084 160.78040071 118.53050054\n",
            " 158.96969888 115.16949998 116.26910031 149.50889941 114.7547006\n",
            " 125.62769881 166.09409957 117.85260016 125.14499936 153.34580369\n",
            " 153.48650249 132.00570049 114.79930008 121.21750161 125.16010089\n",
            "  89.76280033 122.93140023 154.69840165 111.77160048 106.81489989\n",
            " 161.18090153 118.56090003 165.59239927 134.16990043 115.16729956\n",
            " 152.96179879 168.58629869 114.87120029 114.00910127 157.79279893\n",
            "  85.28009902 127.20690042 127.82380115 128.80890028 124.16770051\n",
            " 123.97950092  90.40880112 153.77339981  97.19889972 138.03419987\n",
            "  89.26069964 107.46460023 114.85250009 112.46020075 124.15559922\n",
            "  91.3172987  125.32300111 162.24889903 120.04659857 164.98130033\n",
            " 126.64109809 112.40510018 127.47189927  94.84999862  91.10419948\n",
            " 103.422199   120.88360023  83.28099944 126.48539987 160.65670455\n",
            " 117.32420107 118.44840004 119.94930011 122.42359984 120.09230174\n",
            " 121.51799972 118.24600043 106.94419998 148.21869941 126.04499869\n",
            " 115.84420087  74.0823001  127.82510137 154.95410117 122.69620019\n",
            " 125.54740057  88.75329991 103.43899867 124.49770083 120.28679981\n",
            "  73.36930093 151.48019969 121.26390044 104.76450005  86.73299768\n",
            " 115.05609865 172.26989825 119.76090034 160.00719788 113.17339977\n",
            " 120.97289993 118.40840117  95.95909997 118.70170008 125.93770066\n",
            " 118.62619951  95.97210099 153.90450204 122.19279979 147.27310008\n",
            " 159.64380253 113.90890033 122.59869936 149.59879825 127.30310064\n",
            " 165.96770039 134.79229984 120.05299952 167.18549888 108.31669939\n",
            " 121.81709849 137.87950155 106.73889892]\n"
          ]
        }
      ]
    },
    {
      "cell_type": "code",
      "source": [
        "error_score = metrics.r2_score(y_test, predictions)\n",
        "print(\"R squared error : \", error_score)"
      ],
      "metadata": {
        "colab": {
          "base_uri": "https://localhost:8080/"
        },
        "id": "14YkwdcjFgDz",
        "outputId": "eff4db9c-fe79-4df2-d8bd-42ca74fe90ca"
      },
      "execution_count": null,
      "outputs": [
        {
          "output_type": "stream",
          "name": "stdout",
          "text": [
            "R squared error :  0.9892499772523656\n"
          ]
        }
      ]
    },
    {
      "cell_type": "code",
      "source": [
        "y_test = list(y_test)\n"
      ],
      "metadata": {
        "id": "2oo5YaJoFwvK"
      },
      "execution_count": null,
      "outputs": []
    },
    {
      "cell_type": "code",
      "source": [
        "plt.plot(y_test, color='blue', label = 'Actual Values')\n",
        "plt.plot(predictions, color='pink', label='Predicted Values')\n",
        "plt.title('Actual Prices vs Predicted Prices')\n",
        "plt.xlabel('Number of values')\n",
        "plt.ylabel('GLD Price')\n",
        "plt.legend(loc='lower right')\n",
        "plt.show()"
      ],
      "metadata": {
        "colab": {
          "base_uri": "https://localhost:8080/",
          "height": 295
        },
        "id": "2oLBlBYlJ3Q7",
        "outputId": "2b093a18-f016-4b71-db9b-3736e000038e"
      },
      "execution_count": null,
      "outputs": [
        {
          "output_type": "display_data",
          "data": {
            "text/plain": [
              "<Figure size 432x288 with 1 Axes>"
            ],
            "image/png": "[encoded data removed]"
          },
          "metadata": {
            "needs_background": "light"
          }
        }
      ]
    },
    {
      "cell_type": "code",
      "source": [],
      "metadata": {
        "id": "b56NGl07J9Zu"
      },
      "execution_count": null,
      "outputs": []
    }
  ]
}